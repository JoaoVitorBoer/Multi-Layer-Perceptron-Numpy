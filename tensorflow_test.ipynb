{
 "cells": [
  {
   "cell_type": "code",
   "execution_count": 6,
   "metadata": {},
   "outputs": [],
   "source": [
    "import tensorflow as tf\n",
    "from tensorflow.keras.models import Sequential\n",
    "from tensorflow.keras.layers import Dense\n",
    "from tensorflow.keras.optimizers import SGD, Adam\n",
    "from tensorflow.keras.initializers import GlorotNormal\n",
    "from tensorflow.keras.activations import sigmoid, softmax\n",
    "from tensorflow.keras.losses import BinaryCrossentropy, CategoricalCrossentropy\n",
    "from Datasets.Datasets import Datasets\n",
    "import pickle\n",
    "import numpy as np"
   ]
  },
  {
   "cell_type": "code",
   "execution_count": 2,
   "metadata": {},
   "outputs": [],
   "source": [
    "class MLP:\n",
    "    def __init__(self, layers, otimizador, loss):\n",
    "        self.model = Sequential(layers)\n",
    "        self.model.compile(optimizer=otimizador, loss=loss, metrics=['accuracy'])\n"
   ]
  },
  {
   "cell_type": "markdown",
   "metadata": {},
   "source": [
    "# MNIST Binary"
   ]
  },
  {
   "cell_type": "markdown",
   "metadata": {},
   "source": [
    "### Tensor Flow"
   ]
  },
  {
   "cell_type": "code",
   "execution_count": 5,
   "metadata": {},
   "outputs": [
    {
     "name": "stdout",
     "output_type": "stream",
     "text": [
      "Model accuracy: 99.90543723106384%\n"
     ]
    }
   ],
   "source": [
    "x_train, y_train, x_test, y_test, input_size, num_labels, tipo = Datasets.load_mnist_binary()\n",
    "\n",
    "layers_tf = [\n",
    "    Dense(units=50, activation='relu', kernel_initializer=GlorotNormal(), input_dim=input_size, use_bias=True),\n",
    "    Dense(units=50, activation='relu', kernel_initializer=GlorotNormal(), use_bias=True),\n",
    "    Dense(units=num_labels, activation='sigmoid', kernel_initializer=GlorotNormal(), use_bias=True)\n",
    "]\n",
    "\n",
    "otimizador = Adam()\n",
    "loss = BinaryCrossentropy()\n",
    "model = MLP(layers=layers_tf, otimizador=otimizador, loss=loss)\n",
    "model.model.fit(x_train, y_train, epochs=10, verbose=0)\n",
    "loss, accuracy = model.model.evaluate(x_test, y_test, verbose=0)\n",
    "print(f\"Model accuracy: {accuracy * 100}%\")"
   ]
  },
  {
   "cell_type": "markdown",
   "metadata": {},
   "source": [
    "### Numpy"
   ]
  },
  {
   "cell_type": "code",
   "execution_count": 7,
   "metadata": {},
   "outputs": [
    {
     "name": "stdout",
     "output_type": "stream",
     "text": [
      "Accuracy: 99.91\n"
     ]
    }
   ],
   "source": [
    "x_train, y_train, x_test, y_test, input_size, num_labels, tipo = Datasets.load_mnist_binary()\n",
    "\n",
    "with open('ModelDumps/model_mnist_binary.pkl', 'rb') as f:\n",
    "    model = pickle.load(f)\n",
    "\n",
    "y_pred = model.predict(x_test)\n",
    "y_pred = (y_pred > 0.5).astype(int)  \n",
    "accuracy = np.mean(y_pred == y_test) * 100\n",
    "print('Accuracy: %.2f' % accuracy)"
   ]
  },
  {
   "cell_type": "markdown",
   "metadata": {},
   "source": [
    "# Fashion MNIST"
   ]
  },
  {
   "cell_type": "markdown",
   "metadata": {},
   "source": [
    "### Tensor Flow"
   ]
  },
  {
   "cell_type": "code",
   "execution_count": 9,
   "metadata": {},
   "outputs": [
    {
     "name": "stdout",
     "output_type": "stream",
     "text": [
      "x_train: (60000, 784)\n",
      "Model accuracy: 88.59999775886536%\n"
     ]
    }
   ],
   "source": [
    "x_train, y_train, x_test, y_test, input_size, num_labels, tipo = Datasets.load_fashion_mnist()\n",
    "\n",
    "layers = [\n",
    "    Dense(units=150, activation='relu', kernel_initializer=GlorotNormal(), input_dim=input_size, use_bias=True),\n",
    "    Dense(units=150, activation='relu', kernel_initializer=GlorotNormal(), use_bias=True),\n",
    "    Dense(units=num_labels, activation='softmax', kernel_initializer=GlorotNormal(), use_bias=True)\n",
    "]\n",
    "\n",
    "otimizador = Adam()\n",
    "loss = CategoricalCrossentropy()\n",
    "model = MLP(layers=layers, otimizador=otimizador, loss=loss)\n",
    "model.model.fit(x_train, y_train, epochs=50, verbose=0)\n",
    "loss, accuracy = model.model.evaluate(x_test, y_test, verbose=0)\n",
    "print(f\"Model accuracy: {accuracy * 100}%\")\n",
    " "
   ]
  },
  {
   "cell_type": "markdown",
   "metadata": {},
   "source": [
    "### Numpy"
   ]
  },
  {
   "cell_type": "code",
   "execution_count": 10,
   "metadata": {},
   "outputs": [
    {
     "name": "stdout",
     "output_type": "stream",
     "text": [
      "x_train: (60000, 784)\n",
      "Accuracy: 78.80%\n"
     ]
    }
   ],
   "source": [
    "x_train, y_train, x_test, y_test, input_size, num_labels, tipo = Datasets.load_fashion_mnist()\n",
    "\n",
    "with open('ModelDumps/model_fashion_mnist.pkl', 'rb') as f:\n",
    "    model = pickle.load(f)\n",
    "\n",
    "y_pred = model.predict(x_test)\n",
    "y_pred = np.argmax(y_pred, axis=1)\n",
    "y_test = np.argmax(y_test, axis=1)\n",
    "accuracy = np.mean(y_pred == y_test) * 100\n",
    "print(f'Accuracy: {accuracy:.2f}%')\n"
   ]
  },
  {
   "cell_type": "markdown",
   "metadata": {},
   "source": [
    "# MNIST"
   ]
  },
  {
   "cell_type": "markdown",
   "metadata": {},
   "source": [
    "### Tensor Flow"
   ]
  },
  {
   "cell_type": "code",
   "execution_count": 11,
   "metadata": {},
   "outputs": [
    {
     "name": "stdout",
     "output_type": "stream",
     "text": [
      "Model accuracy: 97.42000102996826%\n"
     ]
    }
   ],
   "source": [
    "x_train, y_train, x_test, y_test, input_size, num_labels, tipo = Datasets.load_mnist()\n",
    "\n",
    "layers = [\n",
    "    Dense(units=100, activation='relu', kernel_initializer=GlorotNormal(), input_dim=input_size, use_bias=True),\n",
    "    Dense(units=100, activation='relu', kernel_initializer=GlorotNormal(), use_bias=True),\n",
    "    Dense(units=num_labels, activation='softmax', kernel_initializer=GlorotNormal(), use_bias=True)\n",
    "]\n",
    "\n",
    "otimizador = Adam()\n",
    "loss = CategoricalCrossentropy()\n",
    "model = MLP(layers=layers, otimizador=otimizador, loss=loss)\n",
    "model.model.fit(x_train, y_train, epochs=50, verbose=0)\n",
    "loss, accuracy = model.model.evaluate(x_test, y_test, verbose=0)\n",
    "print(f\"Model accuracy: {accuracy * 100}%\")"
   ]
  },
  {
   "cell_type": "markdown",
   "metadata": {},
   "source": [
    "### Numpy"
   ]
  },
  {
   "cell_type": "code",
   "execution_count": 13,
   "metadata": {},
   "outputs": [
    {
     "name": "stdout",
     "output_type": "stream",
     "text": [
      "Accuracy: 91.80%\n"
     ]
    }
   ],
   "source": [
    "x_train, y_train, x_test, y_test, input_size, num_labels, tipo = Datasets.load_mnist()\n",
    "\n",
    "with open('ModelDumps/model_mnist.pkl', 'rb') as f:\n",
    "    model = pickle.load(f)\n",
    "\n",
    "y_pred = model.predict(x_test)\n",
    "y_pred = np.argmax(y_pred, axis=1)\n",
    "y_test = np.argmax(y_test, axis=1)\n",
    "accuracy = np.mean(y_pred == y_test) * 100\n",
    "print(f'Accuracy: {accuracy:.2f}%')"
   ]
  }
 ],
 "metadata": {
  "kernelspec": {
   "display_name": "cdpro",
   "language": "python",
   "name": "python3"
  },
  "language_info": {
   "codemirror_mode": {
    "name": "ipython",
    "version": 3
   },
   "file_extension": ".py",
   "mimetype": "text/x-python",
   "name": "python",
   "nbconvert_exporter": "python",
   "pygments_lexer": "ipython3",
   "version": "3.10.3"
  }
 },
 "nbformat": 4,
 "nbformat_minor": 2
}
